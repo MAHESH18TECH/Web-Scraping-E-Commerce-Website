{
 "cells": [
  {
   "cell_type": "code",
   "execution_count": null,
   "id": "5952cebc",
   "metadata": {},
   "outputs": [],
   "source": [
    "import requests\n",
    "from bs4 import BeautifulSoup\n",
    "import pandas as pd\n",
    "import datetime\n",
    "\n",
    "baseurl = 'https://www.noon.com'\n",
    "\n",
    "# headers = {\n",
    "#     'User-Agent': 'Mozilla/5.0 (Windows NT 10.0; Win64; x64) AppleWebKit/537.36 (KHTML, like Gecko) Chrome/74.0.3729.169 Safari/537.36'\n",
    "# }\n",
    "\n",
    "product_links = []\n",
    "\n",
    "for x in range(1,65):\n",
    "    r = requests.get(f'https://www.noon.com/egypt-en/sports-and-outdoors/exercise-and-fitness/yoga-16328/?limit=50&page={x}')\n",
    "    soup = BeautifulSoup(r.content)\n",
    "    spans =  soup.find_all('span', {'class': 'sc-5e739f1b-0 gEERDr wrapper productContainer'})\n",
    "    for span in spans:\n",
    "        links = span.find_all('a')\n",
    "        for link in links:\n",
    "            productlinks = baseurl + link['href']\n",
    "            product_links.append(productlinks)\n",
    "\n",
    "prdctlist = []\n",
    "for links in product_links:\n",
    "    r = requests.get(links)\n",
    "    soup = BeautifulSoup(r.content)\n",
    "    name = soup.find('h1' , class_ = 'sc-c44e3e2d-12 kODUYj').text.strip()\n",
    "    brand = soup.find('div' , class_ = 'sc-c44e3e2d-11 jbKJDi').text.strip()\n",
    "    salesprice = soup.find('div' , class_ = 'priceNow').text.strip()\n",
    "    price = salesprice.split(u'\\xa0')\n",
    "    storename = soup.find('span' , class_ = 'allOffers').text.strip()\n",
    "    try:\n",
    "        prtnrrating = soup.find('div' , class_ = 'sc-d711b2ac-5 hKZAQq').text.strip()\n",
    "    except:\n",
    "        prtnrrating = \"none\"\n",
    "    date_object = datetime.date.today()\n",
    "    try:\n",
    "        sellerrating = soup.find('div' , class_ ='sc-d711b2ac-4 bQMNCl').text.strip()\n",
    "    except:\n",
    "        sellerrating = \"none\"\n",
    "    try:\n",
    "        ogprice = soup.find('div' , class_ = 'priceWas').text.strip()\n",
    "    except:\n",
    "        ogprice = 'none'\n",
    "    try:\n",
    "        sellercount = soup.find('div' , class_ = 'sc-d711b2ac-5 hKZAQq').text.strip()\n",
    "    except:\n",
    "        sellercount = 'none'\n",
    "    link5 = links\n",
    "    linkprdct = links.split(\"/\")\n",
    "    ean = linkprdct[5]\n",
    "    position1 = soup.find('div' , class_ = 'sc-e4a456cc-5 hsjerl').text.strip()\n",
    "\n",
    "    try:\n",
    "        averagerating = soup.find('div' , class_ = 'sc-c44e3e2d-0 kLXCWc').text.strip()\n",
    "    except:\n",
    "        averagerating = \"none\"\n",
    "    try:\n",
    "        prdctrating = soup.find('div', class_ = 'sc-31ebbe94-0 cqbyTR').text.strip()\n",
    "    except:\n",
    "        prdctrating = 'none'\n",
    "\n",
    "    noondata = {\n",
    "        'Date':date_object,\n",
    "        'Product Name': name,\n",
    "        'Brand': brand,\n",
    "        'Currency': price[0],\n",
    "        'Store Name': storename,\n",
    "        'Partner Rating' : sellerrating,\n",
    "        'Partner Rating Count': prtnrrating.replace('% Positive Ratings' , ''),\n",
    "        'Sales Price' : price[1],\n",
    "        'Price' : ogprice.replace(\"EGP \" , ''),\n",
    "        'Link' : link5,\n",
    "        'EAN': linkprdct[5],  \n",
    "        'Position1':position1.replace(' & ','/'),\n",
    "        'ratings':prdctrating\n",
    "        }\n",
    "    \n",
    "    prdctlist.append(noondata)\n",
    "    print('Saving: ', noondata['Product Name'])\n",
    "    \n",
    "df = pd.DataFrame(prdctlist)\n",
    "df.to_excel('A2C.xlsx')\n",
    "print(df.head(15))"
   ]
  },
  {
   "cell_type": "code",
   "execution_count": 66,
   "id": "8cfd2f9c",
   "metadata": {},
   "outputs": [
    {
     "data": {
      "text/plain": [
       "(3200, 14)"
      ]
     },
     "execution_count": 66,
     "metadata": {},
     "output_type": "execute_result"
    }
   ],
   "source": [
    "data = pd.read_excel('A2C.xlsx')\n",
    "data.shape"
   ]
  },
  {
   "cell_type": "code",
   "execution_count": 60,
   "id": "c9179b12",
   "metadata": {},
   "outputs": [],
   "source": [
    "df = pd.read_excel('A2C.xlsx' , na_values = 'none')"
   ]
  },
  {
   "cell_type": "code",
   "execution_count": 62,
   "id": "e63f8855",
   "metadata": {},
   "outputs": [],
   "source": [
    "dt = pd.DataFrame(df)"
   ]
  },
  {
   "cell_type": "code",
   "execution_count": 63,
   "id": "1004369e",
   "metadata": {},
   "outputs": [
    {
     "data": {
      "text/plain": [
       "Unnamed: 0                                                           3199\n",
       "Date                                                  2022-10-16 00:00:00\n",
       "Product Name                                             Yoga Roller 30cm\n",
       "Brand                                                               kings\n",
       "Currency                                                              EGP\n",
       "Store Name                                                          vogue\n",
       "Partner Rating                                                        3.8\n",
       "Partner Rating Count                                                 89.0\n",
       "Sales Price                                                         799.0\n",
       "Price                                                              1049.0\n",
       "Link                    https://www.noon.com/egypt-en/yoga-roller-30cm...\n",
       "EAN                                                ZFEE22B4CAE429FFBB22DZ\n",
       "Position1               Sports, Fitness/OutdoorsExercise/FitnessYogaYo...\n",
       "ratings                                                               NaN\n",
       "dtype: object"
      ]
     },
     "execution_count": 63,
     "metadata": {},
     "output_type": "execute_result"
    }
   ],
   "source": [
    "#Most expensive product\n",
    "dt.max()"
   ]
  },
  {
   "cell_type": "code",
   "execution_count": 64,
   "id": "88bd833e",
   "metadata": {},
   "outputs": [
    {
     "data": {
      "text/plain": [
       "Unnamed: 0                                                              0\n",
       "Date                                                  2022-10-16 00:00:00\n",
       "Product Name            11-Piece Yoga Resistance Belt With Bag 22x6x19...\n",
       "Brand                                                        Athlete Home\n",
       "Currency                                                              EGP\n",
       "Store Name                                                 Alfayez sports\n",
       "Partner Rating                                                        2.9\n",
       "Partner Rating Count                                                 29.0\n",
       "Sales Price                                                          59.9\n",
       "Price                                                               250.0\n",
       "Link                    https://www.noon.com/egypt-en/11-piece-yoga-re...\n",
       "EAN                                                            N16529626A\n",
       "Position1               Sports, Fitness/OutdoorsExercise/FitnessYogaBl...\n",
       "ratings                                                               NaN\n",
       "dtype: object"
      ]
     },
     "execution_count": 64,
     "metadata": {},
     "output_type": "execute_result"
    }
   ],
   "source": [
    "#Cheapest Product \n",
    "dt.min()"
   ]
  },
  {
   "cell_type": "code",
   "execution_count": 55,
   "id": "69ae9ac8",
   "metadata": {},
   "outputs": [
    {
     "data": {
      "text/plain": [
       "Athlete Home      1664\n",
       "BODY SCULPTURE     256\n",
       "UFIT               256\n",
       "Generic            192\n",
       "Spurt              128\n",
       "Gymbit             128\n",
       "Prickly Pear        64\n",
       "LIXADA              64\n",
       "body heart          64\n",
       "Mesuca              64\n",
       "TOEON               64\n",
       "Liveup              64\n",
       "Cactus Fitness      64\n",
       "SportQ              64\n",
       "kings               64\n",
       "Name: Brand, dtype: int64"
      ]
     },
     "execution_count": 55,
     "metadata": {},
     "output_type": "execute_result"
    }
   ],
   "source": [
    "#Number of Products From Each Brand\n",
    "dt['Brand'].value_counts()"
   ]
  },
  {
   "cell_type": "code",
   "execution_count": 56,
   "id": "2629a2e9",
   "metadata": {},
   "outputs": [
    {
     "data": {
      "text/plain": [
       "Athlete Home         1728\n",
       "noon                  384\n",
       "Alfayez sports        320\n",
       "Kanteen.store         128\n",
       "Brenda Box            128\n",
       "Bekstore              128\n",
       "vogue                  64\n",
       "Vision Technology      64\n",
       "Souqegypt              64\n",
       "Happy shopping         64\n",
       "Cactus Fitness         64\n",
       "TBE                    64\n",
       "Name: Store Name, dtype: int64"
      ]
     },
     "execution_count": 56,
     "metadata": {},
     "output_type": "execute_result"
    }
   ],
   "source": [
    "#Number of Products by each seller\n",
    "dt['Store Name'].value_counts()"
   ]
  },
  {
   "cell_type": "code",
   "execution_count": null,
   "id": "9ddc0da8",
   "metadata": {},
   "outputs": [],
   "source": []
  }
 ],
 "metadata": {
  "kernelspec": {
   "display_name": "Python 3 (ipykernel)",
   "language": "python",
   "name": "python3"
  },
  "language_info": {
   "codemirror_mode": {
    "name": "ipython",
    "version": 3
   },
   "file_extension": ".py",
   "mimetype": "text/x-python",
   "name": "python",
   "nbconvert_exporter": "python",
   "pygments_lexer": "ipython3",
   "version": "3.9.12"
  }
 },
 "nbformat": 4,
 "nbformat_minor": 5
}
